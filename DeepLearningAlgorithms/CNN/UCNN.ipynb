{
  "nbformat": 4,
  "nbformat_minor": 0,
  "metadata": {
    "colab": {
      "provenance": [],
      "collapsed_sections": [
        "xDohWE-kv6jf",
        "68lCYHrtIuIx",
        "rwFYCk7hl1xk",
        "6HB4EZkhqTtZ",
        "C9ttEKFAq9sn",
        "rDK_Md7g6AxZ",
        "zSHXIzd4hWm_",
        "pfzKOW6iLt8b",
        "g_FjTaGvqf8b",
        "G1hVvkKzqeks"
      ]
    },
    "kernelspec": {
      "name": "python3",
      "display_name": "Python 3"
    },
    "language_info": {
      "name": "python"
    }
  },
  "cells": [
    {
      "cell_type": "markdown",
      "source": [
        "#Deep Learning"
      ],
      "metadata": {
        "id": "ggsXYiF_V5om"
      }
    },
    {
      "cell_type": "markdown",
      "source": [
        "##Undersampling with Convolution Neural Network"
      ],
      "metadata": {
        "id": "OxiO5bQHV8aY"
      }
    },
    {
      "cell_type": "code",
      "source": [
        "#libraries\n",
        "import pandas as pd\n",
        "import numpy as np\n",
        "from sklearn.model_selection import train_test_split\n",
        "from sklearn.metrics import accuracy_score, classification_report, confusion_matrix\n",
        "from imblearn.under_sampling import RandomUnderSampler\n",
        "from keras.models import Sequential\n",
        "from keras.layers import Conv1D, MaxPooling1D, Flatten, Dense\n",
        "from keras.callbacks import EarlyStopping"
      ],
      "metadata": {
        "id": "u74ErKKyWMaU"
      },
      "execution_count": 21,
      "outputs": []
    },
    {
      "cell_type": "code",
      "source": [
        "# Assuming 'df_cleaned' is your DataFrame containing the dataset\n",
        "X = df_cleaned.drop(columns=['Brain Stroke'])\n",
        "y = df_cleaned['Brain Stroke']\n",
        "\n",
        "# Encode categorical features using pandas get_dummies\n",
        "X_encoded = pd.get_dummies(X)\n",
        "\n",
        "# Splitting the encoded dataset into training and testing sets\n",
        "X_train, X_test, y_train, y_test = train_test_split(X_encoded, y, test_size=0.2, random_state=42)"
      ],
      "metadata": {
        "id": "_WHSpd44XQ8a"
      },
      "execution_count": 22,
      "outputs": []
    },
    {
      "cell_type": "code",
      "source": [
        "# Apply undersampling to the training data\n",
        "rus = RandomUnderSampler(random_state=42)\n",
        "X_train_resampled, y_train_resampled = rus.fit_resample(X_train, y_train)\n",
        "\n",
        "# Ensure the data type is float32 for TensorFlow compatibility\n",
        "X_train_resampled = X_train_resampled.astype(np.float32)\n",
        "X_test = X_test.astype(np.float32)\n",
        "\n",
        "# Reshape the input data for 1D CNN\n",
        "X_train_reshaped = X_train_resampled.values.reshape(X_train_resampled.shape[0], X_train_resampled.shape[1], 1)\n",
        "X_test_reshaped = X_test.values.reshape(X_test.shape[0], X_test.shape[1], 1)\n",
        "\n",
        "# Define the 1D CNN architecture\n",
        "model = Sequential([\n",
        "    Conv1D(filters=32, kernel_size=3, activation='relu', input_shape=(X_train_reshaped.shape[1], 1)),\n",
        "    MaxPooling1D(pool_size=2),\n",
        "    Flatten(),\n",
        "    Dense(64, activation='relu'),\n",
        "    Dense(1, activation='sigmoid')\n",
        "])\n",
        "\n",
        "# Compile the model\n",
        "model.compile(optimizer='adam', loss='binary_crossentropy', metrics=['accuracy'])\n",
        "\n",
        "# Define early stopping criteria\n",
        "stopping = EarlyStopping(monitor='val_loss', patience=5, restore_best_weights=True)\n",
        "\n",
        "# Train the model with early stopping\n",
        "history = model.fit(X_train_reshaped, y_train_resampled, epochs=1000, batch_size=32, validation_split=0.2, callbacks=[stopping])"
      ],
      "metadata": {
        "colab": {
          "base_uri": "https://localhost:8080/"
        },
        "id": "clI0w-XGXXz5",
        "outputId": "73753923-c462-4d70-8c48-3146dfca8690"
      },
      "execution_count": 23,
      "outputs": [
        {
          "output_type": "stream",
          "name": "stdout",
          "text": [
            "Epoch 1/1000\n",
            "31/31 [==============================] - 1s 11ms/step - loss: 0.7547 - accuracy: 0.6241 - val_loss: 0.7113 - val_accuracy: 0.5720\n",
            "Epoch 2/1000\n",
            "31/31 [==============================] - 0s 3ms/step - loss: 0.5376 - accuracy: 0.7405 - val_loss: 1.1346 - val_accuracy: 0.2757\n",
            "Epoch 3/1000\n",
            "31/31 [==============================] - 0s 6ms/step - loss: 0.5997 - accuracy: 0.7085 - val_loss: 0.4135 - val_accuracy: 0.8025\n",
            "Epoch 4/1000\n",
            "31/31 [==============================] - 0s 6ms/step - loss: 0.5453 - accuracy: 0.7127 - val_loss: 0.2410 - val_accuracy: 0.9342\n",
            "Epoch 5/1000\n",
            "31/31 [==============================] - 0s 6ms/step - loss: 0.5833 - accuracy: 0.7188 - val_loss: 0.4206 - val_accuracy: 0.8025\n",
            "Epoch 6/1000\n",
            "31/31 [==============================] - 0s 7ms/step - loss: 0.5379 - accuracy: 0.7384 - val_loss: 0.6548 - val_accuracy: 0.6502\n",
            "Epoch 7/1000\n",
            "31/31 [==============================] - 0s 5ms/step - loss: 0.4909 - accuracy: 0.7611 - val_loss: 1.0262 - val_accuracy: 0.4321\n",
            "Epoch 8/1000\n",
            "31/31 [==============================] - 0s 6ms/step - loss: 0.4964 - accuracy: 0.7497 - val_loss: 0.8727 - val_accuracy: 0.5226\n",
            "Epoch 9/1000\n",
            "31/31 [==============================] - 0s 6ms/step - loss: 0.5051 - accuracy: 0.7405 - val_loss: 0.9383 - val_accuracy: 0.4774\n"
          ]
        }
      ]
    },
    {
      "cell_type": "code",
      "source": [
        "# Plot training history\n",
        "plt.plot(history.history['loss'], label='train')\n",
        "plt.plot(history.history['val_loss'], label='test')\n",
        "plt.legend()\n",
        "plt.show()"
      ],
      "metadata": {
        "colab": {
          "base_uri": "https://localhost:8080/",
          "height": 430
        },
        "id": "lg3QmDdaXxWQ",
        "outputId": "5be87673-6266-444a-fa77-03094adad0a7"
      },
      "execution_count": 24,
      "outputs": [
        {
          "output_type": "display_data",
          "data": {
            "text/plain": [
              "<Figure size 640x480 with 1 Axes>"
            ],
            "image/png": "[encoded data removed]"
          },
          "metadata": {}
        }
      ]
    },
    {
      "cell_type": "code",
      "source": [
        "# Predict the target variable on the test data\n",
        "y_pred_proba = model.predict(X_test_reshaped)\n",
        "y_pred = np.round(y_pred_proba).astype(int)\n",
        "\n",
        "# Calculate accuracy\n",
        "accuracy = accuracy_score(y_test, y_pred)\n",
        "print(\"Accuracy:\", accuracy)\n",
        "\n",
        "# Generate classification report\n",
        "print(\"\\nClassification Report:\")\n",
        "print(classification_report(y_test, y_pred))\n",
        "\n",
        "# Generate confusion matrix\n",
        "print(\"\\nConfusion Matrix:\")\n",
        "print(confusion_matrix(y_test, y_pred))"
      ],
      "metadata": {
        "colab": {
          "base_uri": "https://localhost:8080/"
        },
        "id": "lmavMnwMX78S",
        "outputId": "92544f9c-494b-43b7-c4d6-890723dc7ea6"
      },
      "execution_count": 25,
      "outputs": [
        {
          "output_type": "stream",
          "name": "stdout",
          "text": [
            "253/253 [==============================] - 2s 6ms/step\n",
            "Accuracy: 0.5415224913494809\n",
            "\n",
            "Classification Report:\n",
            "              precision    recall  f1-score   support\n",
            "\n",
            "           0       1.00      0.53      0.70      7919\n",
            "           1       0.04      0.89      0.08       173\n",
            "\n",
            "    accuracy                           0.54      8092\n",
            "   macro avg       0.52      0.71      0.39      8092\n",
            "weighted avg       0.98      0.54      0.68      8092\n",
            "\n",
            "\n",
            "Confusion Matrix:\n",
            "[[4228 3691]\n",
            " [  19  154]]\n"
          ]
        }
      ]
    }
  ]
}
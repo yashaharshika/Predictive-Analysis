{
  "nbformat": 4,
  "nbformat_minor": 0,
  "metadata": {
    "colab": {
      "provenance": [],
      "collapsed_sections": [
        "xDohWE-kv6jf",
        "68lCYHrtIuIx"
      ]
    },
    "kernelspec": {
      "name": "python3",
      "display_name": "Python 3"
    },
    "language_info": {
      "name": "python"
    }
  },
  "cells": [
    {
      "cell_type": "markdown",
      "source": [
        "#Deep Learning"
      ],
      "metadata": {
        "id": "g_FjTaGvqf8b"
      }
    },
    {
      "cell_type": "markdown",
      "source": [
        "##Oversampling with Convolution Neural Network"
      ],
      "metadata": {
        "id": "kAzwXqp2SojS"
      }
    },
    {
      "cell_type": "code",
      "source": [
        "# libraries\n",
        "import pandas as pd\n",
        "import numpy as np\n",
        "import tensorflow as tf\n",
        "from sklearn.model_selection import train_test_split\n",
        "from sklearn.metrics import accuracy_score, classification_report, confusion_matrix\n",
        "from imblearn.over_sampling import RandomOverSampler\n",
        "from tensorflow.keras.models import Sequential\n",
        "from tensorflow.keras.layers import Conv1D, MaxPooling1D, Flatten, Dense\n",
        "from tensorflow.keras.callbacks import EarlyStopping"
      ],
      "metadata": {
        "id": "47n-crnZici6"
      },
      "execution_count": 33,
      "outputs": []
    },
    {
      "cell_type": "code",
      "source": [
        "# Assuming 'df_cleaned' is your DataFrame containing the dataset\n",
        "X = df_cleaned.drop(columns=['Brain Stroke'])  # Features\n",
        "y = df_cleaned['Brain Stroke']  # Target variable\n",
        "\n",
        "# Encode categorical features using pandas get_dummies\n",
        "X_encoded = pd.get_dummies(X)\n",
        "\n",
        "# Splitting the encoded dataset into training and testing sets\n",
        "X_train, X_test, y_train, y_test = train_test_split(X_encoded, y, test_size=0.2, random_state=42)"
      ],
      "metadata": {
        "id": "hZBgBCP7if1h"
      },
      "execution_count": 29,
      "outputs": []
    },
    {
      "cell_type": "code",
      "source": [
        "# Apply oversampling to the training data\n",
        "ros = RandomOverSampler(random_state=42)\n",
        "X_train_resampled, y_train_resampled = ros.fit_resample(X_train, y_train)\n",
        "\n",
        "# Ensure the data type is float32 for TensorFlow compatibility\n",
        "X_train_resampled = X_train_resampled.astype(np.float32)\n",
        "X_test = X_test.astype(np.float32)\n",
        "\n",
        "# Reshape the input data\n",
        "X_train_reshaped = X_train_resampled.values.reshape(X_train_resampled.shape[0], X_train_resampled.shape[1], 1)\n",
        "X_test_reshaped = X_test.values.reshape(X_test.shape[0], X_test.shape[1], 1)\n",
        "\n",
        "model = Sequential([\n",
        "    Conv1D(filters=32, kernel_size=3, activation='relu', input_shape=(X_train_reshaped.shape[1], 1)),\n",
        "    MaxPooling1D(pool_size=2),\n",
        "    Flatten(),\n",
        "    Dense(64, activation='relu'),\n",
        "    Dense(1, activation='sigmoid')\n",
        "])\n",
        "\n",
        "# Compile the model\n",
        "model.compile(optimizer='adam', loss='binary_crossentropy', metrics=['accuracy'])\n",
        "\n",
        "# Define early stopping criteria\n",
        "stopping = EarlyStopping(monitor='val_loss', patience=5, restore_best_weights=True)\n",
        "\n",
        "# Train the model with early stopping\n",
        "history = model.fit(X_train_reshaped, y_train_resampled, epochs=1000, batch_size=32, validation_split=0.2, callbacks=[stopping])"
      ],
      "metadata": {
        "id": "brB80gytqixN",
        "colab": {
          "base_uri": "https://localhost:8080/"
        },
        "outputId": "4143c406-24cf-4faa-b503-7f5dac17f039"
      },
      "execution_count": 30,
      "outputs": [
        {
          "output_type": "stream",
          "name": "stdout",
          "text": [
            "Epoch 1/1000\n",
            "1588/1588 [==============================] - 11s 6ms/step - loss: 0.5234 - accuracy: 0.7360 - val_loss: 0.4542 - val_accuracy: 0.8341\n",
            "Epoch 2/1000\n",
            "1588/1588 [==============================] - 5s 3ms/step - loss: 0.4949 - accuracy: 0.7524 - val_loss: 0.6399 - val_accuracy: 0.7028\n",
            "Epoch 3/1000\n",
            "1588/1588 [==============================] - 10s 6ms/step - loss: 0.4869 - accuracy: 0.7566 - val_loss: 0.5557 - val_accuracy: 0.7690\n",
            "Epoch 4/1000\n",
            "1588/1588 [==============================] - 8s 5ms/step - loss: 0.4797 - accuracy: 0.7618 - val_loss: 0.7657 - val_accuracy: 0.6000\n",
            "Epoch 5/1000\n",
            "1588/1588 [==============================] - 10s 6ms/step - loss: 0.4750 - accuracy: 0.7640 - val_loss: 0.7282 - val_accuracy: 0.6411\n",
            "Epoch 6/1000\n",
            "1588/1588 [==============================] - 7s 4ms/step - loss: 0.4731 - accuracy: 0.7650 - val_loss: 0.5229 - val_accuracy: 0.7831\n"
          ]
        }
      ]
    },
    {
      "cell_type": "code",
      "source": [
        "# Plot training history\n",
        "plt.plot(history.history['loss'], label='train')\n",
        "plt.plot(history.history['val_loss'], label='test')\n",
        "plt.legend()\n",
        "plt.show()"
      ],
      "metadata": {
        "id": "T6bdqHN6qos4",
        "colab": {
          "base_uri": "https://localhost:8080/",
          "height": 430
        },
        "outputId": "f96fb11c-fce6-4f84-f88b-25f4ddbafce5"
      },
      "execution_count": 31,
      "outputs": [
        {
          "output_type": "display_data",
          "data": {
            "text/plain": [
              "<Figure size 640x480 with 1 Axes>"
            ],
            "image/png": "[encoded data removed]"
          },
          "metadata": {}
        }
      ]
    },
    {
      "cell_type": "code",
      "source": [
        "# Predict the target variable on the test data\n",
        "y_pred_proba = model.predict(X_test_reshaped)\n",
        "y_pred = np.round(y_pred_proba).astype(int)\n",
        "\n",
        "# Calculate accuracy\n",
        "accuracy = accuracy_score(y_test, y_pred)\n",
        "print(\"Accuracy:\", accuracy)\n",
        "\n",
        "# Generate classification report\n",
        "print(\"\\nClassification Report:\")\n",
        "print(classification_report(y_test, y_pred))\n",
        "\n",
        "# Generate confusion matrix\n",
        "print(\"\\nConfusion Matrix:\")\n",
        "print(confusion_matrix(y_test, y_pred))"
      ],
      "metadata": {
        "id": "Qcmh-qWiqpbN",
        "colab": {
          "base_uri": "https://localhost:8080/"
        },
        "outputId": "133002f3-2dfb-4e04-b074-aec64b6ec87f"
      },
      "execution_count": 32,
      "outputs": [
        {
          "output_type": "stream",
          "name": "stdout",
          "text": [
            "253/253 [==============================] - 1s 2ms/step\n",
            "Accuracy: 0.7170044488383589\n",
            "\n",
            "Classification Report:\n",
            "              precision    recall  f1-score   support\n",
            "\n",
            "           0       0.99      0.71      0.83      7919\n",
            "           1       0.06      0.83      0.11       173\n",
            "\n",
            "    accuracy                           0.72      8092\n",
            "   macro avg       0.53      0.77      0.47      8092\n",
            "weighted avg       0.97      0.72      0.82      8092\n",
            "\n",
            "\n",
            "Confusion Matrix:\n",
            "[[5658 2261]\n",
            " [  29  144]]\n"
          ]
        }
      ]
    }
  ]
}
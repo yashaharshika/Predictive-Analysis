{
  "nbformat": 4,
  "nbformat_minor": 0,
  "metadata": {
    "colab": {
      "provenance": []
    },
    "kernelspec": {
      "name": "python3",
      "display_name": "Python 3"
    },
    "language_info": {
      "name": "python"
    }
  },
  "cells": [
    {
      "cell_type": "markdown",
      "source": [
        "##Over Sampling with Feed-Forward Neural Network"
      ],
      "metadata": {
        "id": "MzTlI5datS0S"
      }
    },
    {
      "cell_type": "code",
      "source": [
        "# importing libraries for Machine learning\n",
        "\n",
        "from sklearn.ensemble import RandomForestClassifier\n",
        "from imblearn.under_sampling import RandomUnderSampler\n",
        "from imblearn.over_sampling import RandomOverSampler\n",
        "from sklearn.model_selection import train_test_split\n",
        "from sklearn.metrics import accuracy_score, classification_report, confusion_matrix"
      ],
      "metadata": {
        "id": "6Sbzgeh7dNtb"
      },
      "execution_count": 98,
      "outputs": []
    },
    {
      "cell_type": "code",
      "source": [
        "# Assuming 'df_cleaned' is your DataFrame containing the dataset\n",
        "X = df_cleaned.drop(columns=['Brain Stroke'])\n",
        "Y = df_cleaned['Brain Stroke']\n",
        "\n",
        "# Encode categorical features using pandas get_dummies\n",
        "feautures_encoded = pd.get_dummies(X)\n",
        "\n",
        "# Splitting the encoded dataset into training and testing sets\n",
        "X_train, X_test, Y_train, Y_test = train_test_split(feautures_encoded, Y, test_size=0.2, random_state=42)"
      ],
      "metadata": {
        "id": "RrVGgFXzL-Ms"
      },
      "execution_count": 99,
      "outputs": []
    },
    {
      "cell_type": "code",
      "source": [
        "# importing libraries for Deep Learning\n",
        "import tensorflow as tf\n",
        "from tensorflow.keras.models import Sequential\n",
        "from tensorflow.keras.layers import Dense\n",
        "from tensorflow.keras.callbacks import EarlyStopping"
      ],
      "metadata": {
        "id": "W1IrneSxdi5L"
      },
      "execution_count": 100,
      "outputs": []
    },
    {
      "cell_type": "code",
      "source": [
        "# Assuming 'df_cleaned' is your DataFrame containing the dataset\n",
        "X = df_cleaned.drop(columns=['Brain Stroke'])\n",
        "Y = df_cleaned['Brain Stroke']\n",
        "\n",
        "# Encode categorical features using pandas get_dummies\n",
        "feautures_encoded = pd.get_dummies(X)\n",
        "\n",
        "# Splitting the encoded dataset into training and testing sets\n",
        "X_train, X_test, Y_train, Y_test = train_test_split(feautures_encoded, Y, test_size=0.2, random_state=42)"
      ],
      "metadata": {
        "id": "Fi2jyOXQBcQQ"
      },
      "execution_count": 101,
      "outputs": []
    },
    {
      "cell_type": "code",
      "source": [
        "# Ensure the data types are compatible with TensorFlow\n",
        "X_train = np.asarray(X_train).astype('float32')\n",
        "y_train = np.asarray(Y_train).astype('float32')\n",
        "X_test = np.asarray(X_test).astype('float32')\n",
        "y_test = np.asarray(Y_test).astype('float32')\n",
        "\n",
        "# Apply oversampling to the training data\n",
        "ros = RandomOverSampler(random_state=42)\n",
        "X_train_resampled, Y_train_resampled = ros.fit_resample(X_train, Y_train)\n",
        "\n",
        "# Define the neural network architecture\n",
        "model = Sequential([\n",
        "    Dense(64, activation='relu', input_shape=(X_train_resampled.shape[1],)),\n",
        "    Dense(32, activation='relu'),\n",
        "    Dense(1, activation='sigmoid')\n",
        "])\n",
        "\n",
        "# Compile the model\n",
        "model.compile(optimizer='adam', loss='binary_crossentropy', metrics=['accuracy'])\n",
        "\n",
        "# Define early stopping criteria\n",
        "stopping = EarlyStopping(monitor='val_loss', patience=5, restore_best_weights=True)\n",
        "\n",
        "# Train the model with early stopping\n",
        "history = model.fit(X_train_resampled, Y_train_resampled, epochs=1000, batch_size=32, validation_split=0.2, callbacks=stopping)"
      ],
      "metadata": {
        "id": "3VszdbyTliWR",
        "colab": {
          "base_uri": "https://localhost:8080/"
        },
        "outputId": "329149cd-2d5d-4fa9-bd83-f57c8ed2f03c"
      },
      "execution_count": 102,
      "outputs": [
        {
          "output_type": "stream",
          "name": "stdout",
          "text": [
            "Epoch 1/1000\n",
            "1588/1588 [==============================] - 6s 3ms/step - loss: 0.5475 - accuracy: 0.7340 - val_loss: 0.7514 - val_accuracy: 0.5638\n",
            "Epoch 2/1000\n",
            "1588/1588 [==============================] - 3s 2ms/step - loss: 0.4934 - accuracy: 0.7466 - val_loss: 0.4272 - val_accuracy: 0.8182\n",
            "Epoch 3/1000\n",
            "1588/1588 [==============================] - 4s 2ms/step - loss: 0.4812 - accuracy: 0.7549 - val_loss: 0.8260 - val_accuracy: 0.5515\n",
            "Epoch 4/1000\n",
            "1588/1588 [==============================] - 3s 2ms/step - loss: 0.4742 - accuracy: 0.7578 - val_loss: 0.7865 - val_accuracy: 0.5739\n",
            "Epoch 5/1000\n",
            "1588/1588 [==============================] - 4s 3ms/step - loss: 0.4718 - accuracy: 0.7564 - val_loss: 0.6251 - val_accuracy: 0.7088\n",
            "Epoch 6/1000\n",
            "1588/1588 [==============================] - 3s 2ms/step - loss: 0.4656 - accuracy: 0.7627 - val_loss: 0.6563 - val_accuracy: 0.6775\n",
            "Epoch 7/1000\n",
            "1588/1588 [==============================] - 3s 2ms/step - loss: 0.4611 - accuracy: 0.7635 - val_loss: 0.7000 - val_accuracy: 0.6385\n"
          ]
        }
      ]
    },
    {
      "cell_type": "code",
      "source": [
        "plt.plot(history.history['loss'], label = 'train')\n",
        "plt.plot(history.history['val_loss'], label = 'test')\n",
        "plt.legend()\n",
        "plt.show()"
      ],
      "metadata": {
        "id": "WC4p-H_9XD-b",
        "colab": {
          "base_uri": "https://localhost:8080/",
          "height": 430
        },
        "outputId": "b6ef7b42-ac6b-41e5-a324-3b23a8c38504"
      },
      "execution_count": 103,
      "outputs": [
        {
          "output_type": "display_data",
          "data": {
            "text/plain": [
              "<Figure size 640x480 with 1 Axes>"
            ],
            "image/png": "[encoded data removed]"
          },
          "metadata": {}
        }
      ]
    },
    {
      "cell_type": "code",
      "source": [
        "# Predict the target variable on the test data\n",
        "y_pred_proba = model.predict(X_test)\n",
        "FNN_pred = np.round(y_pred_proba).astype(int)\n",
        "\n",
        "# Calculate accuracy\n",
        "accuracy = accuracy_score(Y_test, FNN_pred)\n",
        "print(\"Accuracy:\", accuracy)\n",
        "\n",
        "# Generate classification report\n",
        "print(\"\\nClassification Report:\")\n",
        "print(classification_report(Y_test, FNN_pred))\n",
        "\n",
        "# Generate confusion matrix\n",
        "print(\"\\nConfusion Matrix:\")\n",
        "print(confusion_matrix(Y_test, FNN_pred))"
      ],
      "metadata": {
        "id": "HmraNHLhnci2",
        "colab": {
          "base_uri": "https://localhost:8080/"
        },
        "outputId": "5da53634-8dba-404b-a9f3-f68b3aaaedda"
      },
      "execution_count": 104,
      "outputs": [
        {
          "output_type": "stream",
          "name": "stdout",
          "text": [
            "253/253 [==============================] - 0s 1ms/step\n",
            "Accuracy: 0.7043994068215521\n",
            "\n",
            "Classification Report:\n",
            "              precision    recall  f1-score   support\n",
            "\n",
            "           0       0.99      0.70      0.82      7919\n",
            "           1       0.06      0.84      0.11       173\n",
            "\n",
            "    accuracy                           0.70      8092\n",
            "   macro avg       0.53      0.77      0.47      8092\n",
            "weighted avg       0.97      0.70      0.81      8092\n",
            "\n",
            "\n",
            "Confusion Matrix:\n",
            "[[5555 2364]\n",
            " [  28  145]]\n"
          ]
        }
      ]
    }
  ]
}
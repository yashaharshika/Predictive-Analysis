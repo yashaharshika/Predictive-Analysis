{
  "nbformat": 4,
  "nbformat_minor": 0,
  "metadata": {
    "colab": {
      "provenance": [],
      "collapsed_sections": [
        "9cL3raa9mo9A",
        "TLFZvr39kCDg",
        "F38MfeN9kSG2",
        "ERzjYVCQlVVE"
      ]
    },
    "kernelspec": {
      "name": "python3",
      "display_name": "Python 3"
    },
    "language_info": {
      "name": "python"
    }
  },
  "cells": [
    {
      "cell_type": "markdown",
      "source": [
        "#Machine Learning Model"
      ],
      "metadata": {
        "id": "lGwfsfvPHyS3"
      }
    },
    {
      "cell_type": "markdown",
      "source": [
        "##Oversampling with Support Vector Machine Algorithm"
      ],
      "metadata": {
        "id": "gxSBHTeOH0Oq"
      }
    },
    {
      "cell_type": "code",
      "source": [
        "# libraries\n",
        "from sklearn.model_selection import train_test_split\n",
        "from sklearn.svm import SVC\n",
        "from sklearn.metrics import accuracy_score, classification_report, confusion_matrix\n",
        "from imblearn.over_sampling import RandomOverSampler"
      ],
      "metadata": {
        "id": "hSv38B7_IH-4"
      },
      "execution_count": 35,
      "outputs": []
    },
    {
      "cell_type": "code",
      "source": [
        "# Assuming 'df_cleaned' is your DataFrame containing the dataset\n",
        "X = df_cleaned.drop(columns=['Brain Stroke'])  # Features\n",
        "y = df_cleaned['Brain Stroke']  # Target variable\n",
        "\n",
        "# Encode categorical features using pandas get_dummies\n",
        "X_encoded = pd.get_dummies(X)\n",
        "\n",
        "# Splitting the encoded dataset into training and testing sets\n",
        "X_train, X_test, y_train, y_test = train_test_split(X_encoded, y, test_size=0.2, random_state=42)"
      ],
      "metadata": {
        "id": "13_aSKy8IPdt"
      },
      "execution_count": 36,
      "outputs": []
    },
    {
      "cell_type": "code",
      "source": [
        "# Apply oversampling to the training data\n",
        "ros = RandomOverSampler(random_state=42)\n",
        "X_train_resampled_OSVM, y_train_resampled_OSVM = ros.fit_resample(X_train, y_train)\n",
        "\n",
        "# Initialize the Support Vector Machine classifier\n",
        "OSVM_Classifier = SVC(kernel='linear', random_state=42)\n",
        "\n",
        "# Train the classifier on the resampled training data\n",
        "OSVM_Classifier.fit(X_train_resampled_OSVM, y_train_resampled_OSVM)\n",
        "\n",
        "# Predict the target variable on the test data\n",
        "y_pred_OSVM = OSVM_Classifier.predict(X_test)\n",
        "\n",
        "# Calculate accuracy\n",
        "accuracy = accuracy_score(y_test, y_pred_OSVM)\n",
        "print(\"Accuracy:\", accuracy)\n",
        "\n",
        "# Generate classification report\n",
        "print(\"\\nClassification Report:\")\n",
        "print(classification_report(y_test, y_pred_OSVM))\n",
        "\n",
        "# Generate confusion matrix\n",
        "print(\"\\nConfusion Matrix:\")\n",
        "print(confusion_matrix(y_test, y_pred_OSVM))"
      ],
      "metadata": {
        "colab": {
          "base_uri": "https://localhost:8080/"
        },
        "id": "RsSuhbVKIVAt",
        "outputId": "f7163737-9811-4970-fee0-3a8aa8e0b097"
      },
      "execution_count": 37,
      "outputs": [
        {
          "output_type": "stream",
          "name": "stdout",
          "text": [
            "Accuracy: 0.7019278299555116\n",
            "\n",
            "Classification Report:\n",
            "              precision    recall  f1-score   support\n",
            "\n",
            "           0       0.99      0.70      0.82      7919\n",
            "           1       0.06      0.83      0.11       173\n",
            "\n",
            "    accuracy                           0.70      8092\n",
            "   macro avg       0.53      0.76      0.46      8092\n",
            "weighted avg       0.97      0.70      0.81      8092\n",
            "\n",
            "\n",
            "Confusion Matrix:\n",
            "[[5537 2382]\n",
            " [  30  143]]\n"
          ]
        }
      ]
    }
  ]
}
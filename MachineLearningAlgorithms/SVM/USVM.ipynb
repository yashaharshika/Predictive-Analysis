{
  "nbformat": 4,
  "nbformat_minor": 0,
  "metadata": {
    "colab": {
      "provenance": [],
      "collapsed_sections": [
        "9cL3raa9mo9A",
        "TLFZvr39kCDg",
        "F38MfeN9kSG2",
        "ERzjYVCQlVVE"
      ]
    },
    "kernelspec": {
      "name": "python3",
      "display_name": "Python 3"
    },
    "language_info": {
      "name": "python"
    }
  },
  "cells": [
    {
      "cell_type": "markdown",
      "source": [
        "#Machine Learning Model"
      ],
      "metadata": {
        "id": "lGwfsfvPHyS3"
      }
    },
    {
      "cell_type": "markdown",
      "source": [
        "##Undersampling with Support Vector Machine Algorithm"
      ],
      "metadata": {
        "id": "gxSBHTeOH0Oq"
      }
    },
    {
      "cell_type": "code",
      "source": [
        "# libraries\n",
        "from sklearn.model_selection import train_test_split\n",
        "from sklearn.svm import SVC\n",
        "from sklearn.metrics import accuracy_score, classification_report, confusion_matrix\n",
        "from imblearn.under_sampling import RandomUnderSampler"
      ],
      "metadata": {
        "id": "hSv38B7_IH-4"
      },
      "execution_count": null,
      "outputs": []
    },
    {
      "cell_type": "code",
      "source": [
        "# Assuming 'df_cleaned' is your DataFrame containing the dataset\n",
        "X = df_cleaned.drop(columns=['Brain Stroke'])  # Features\n",
        "y = df_cleaned['Brain Stroke']  # Target variable\n",
        "\n",
        "# Encode categorical features using pandas get_dummies\n",
        "X_encoded = pd.get_dummies(X)\n",
        "\n",
        "# Splitting the encoded dataset into training and testing sets\n",
        "X_train, X_test, y_train, y_test = train_test_split(X_encoded, y, test_size=0.2, random_state=42)"
      ],
      "metadata": {
        "id": "13_aSKy8IPdt"
      },
      "execution_count": null,
      "outputs": []
    },
    {
      "cell_type": "code",
      "source": [
        "# Apply undersampling to the training data\n",
        "rus = RandomUnderSampler(random_state=42)\n",
        "X_train_resampled_USVM, y_train_resampled_USVM = rus.fit_resample(X_train, y_train)\n",
        "\n",
        "# Initialize the Support Vector Machine classifier\n",
        "USVM_Classifier = SVC(kernel='linear', random_state=42)\n",
        "\n",
        "# Train the classifier on the resampled training data\n",
        "USVM_Classifier.fit(X_train_resampled_USVM, y_train_resampled_USVM)\n",
        "\n",
        "# Predict the target variable on the test data\n",
        "y_pred_USVM = USVM_Classifier.predict(X_test)\n",
        "\n",
        "# Calculate accuracy\n",
        "accuracy = accuracy_score(y_test, y_pred_USVM)\n",
        "print(\"Accuracy:\", accuracy)\n",
        "\n",
        "# Generate classification report\n",
        "print(\"\\nClassification Report:\")\n",
        "print(classification_report(y_test, y_pred_USVM))\n",
        "\n",
        "# Generate confusion matrix\n",
        "print(\"\\nConfusion Matrix:\")\n",
        "print(confusion_matrix(y_test, y_pred_USVM))"
      ],
      "metadata": {
        "colab": {
          "base_uri": "https://localhost:8080/"
        },
        "id": "RsSuhbVKIVAt",
        "outputId": "a4ad4f51-7587-4102-b4b2-fcfe8fad30c8"
      },
      "execution_count": null,
      "outputs": [
        {
          "output_type": "stream",
          "name": "stdout",
          "text": [
            "Accuracy: 0.7381364310430054\n",
            "\n",
            "Classification Report:\n",
            "              precision    recall  f1-score   support\n",
            "\n",
            "           0       0.99      0.74      0.85      7919\n",
            "           1       0.06      0.76      0.11       173\n",
            "\n",
            "    accuracy                           0.74      8092\n",
            "   macro avg       0.53      0.75      0.48      8092\n",
            "weighted avg       0.97      0.74      0.83      8092\n",
            "\n",
            "\n",
            "Confusion Matrix:\n",
            "[[5842 2077]\n",
            " [  42  131]]\n"
          ]
        }
      ]
    }
  ]
}